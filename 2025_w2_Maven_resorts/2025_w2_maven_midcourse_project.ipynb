{
 "cells": [
  {
   "cell_type": "markdown",
   "id": "5753e0de",
   "metadata": {},
   "source": [
    "# Dashboard 1: Ski Resort Slope Density\n",
    "\n",
    "Build an Application containing a density mapbox graph that displays color intensity based on `Total slopes`. This map should be centered roughly on the US/Canada.\n",
    "\n",
    "* Add a slider to this application that filters the resorts mapped to those with a Price below the value selected in the slider.\n",
    "* Add a radio button that toggles between resorts with night skiing and without night skiing. \n",
    "* Consider making your title dynamic based on the price input\n"
   ]
  },
  {
   "cell_type": "code",
   "execution_count": 4,
   "id": "3b7d8c5d",
   "metadata": {},
   "outputs": [
    {
     "data": {
      "application/vnd.plotly.v1+json": {
       "config": {
        "plotlyServerURL": "https://plot.ly"
       },
       "data": [
        {
         "coloraxis": "coloraxis",
         "hovertemplate": "Total slopes=%{z}<br>Latitude=%{lat}<br>Longitude=%{lon}<extra></extra>",
         "lat": [
          49.1055201,
          49.5041747,
          50.8844684,
          50.7369988,
          35.7540215,
          40.4805325,
          38.8698201,
          34.641109,
          40.6460921,
          40.1211211,
          51.2937094,
          49.715991,
          50.1171903,
          39.87161425,
          42.6736893,
          39.1760986,
          61.103269,
          36.7402261,
          39.6440207,
          41.216317,
          39.6048786,
          32.7558392,
          45.2839783,
          39.3316513,
          51.4249668,
          48.8773577,
          41.9988889,
          43.67433,
          37.4781086,
          38.3481772,
          45.015082,
          36.4072377,
          51.08952535,
          40.5807546,
          40.369273,
          48.7767701,
          39.1785177,
          48.1815678,
          42.6955158,
          47.4234599,
          43.9792818,
          39.274701,
          48.368467,
          33.741419,
          51.3065203,
          40.3977612,
          43.0428562,
          43.6829549,
          48.48108275,
          45.338708,
          42.9932326,
          37.6307692,
          37.9374939,
          44.5417138,
          52.8005917,
          37.5558754,
          44.4627415,
          49.6850876,
          45.6681984,
          46.11588,
          41.0514432,
          47.6313713,
          36.3930879,
          45.7032833,
          37.6927551,
          44.4654236,
          43.41769055,
          47.0877219,
          48.300619,
          37.5688237,
          49.3900432,
          39.983721,
          45.3018189,
          38.5800713,
          45.1907531,
          40.6202462,
          60.96188655,
          42.9589685,
          49.7528282,
          40.2235948,
          44.2576311,
          50.9692628,
          35.214632,
          42.1778662,
          37.3862661,
          39.3188801,
          49.3976802,
          44.36586225,
          47.424462,
          44.6700061,
          45.303419,
          39.3455111,
          41.349713,
          35.2100445,
          46.9281666,
          47.7456352,
          44.5164518,
          47.2759
         ],
         "lon": [
          -117.8462801,
          -115.062867,
          -119.8823295,
          -119.1205606,
          -109.8537507,
          -106.8406049,
          -106.984043,
          -98.67619161,
          -111.4979963,
          -80.6698426,
          -116.9624651,
          -118.933872,
          -122.9543022,
          -105.7827088,
          -95.3039943,
          -106.8292058,
          -149.7406566,
          -119.246785,
          -106.3801669,
          -111.857428,
          -106.5150017,
          -98.9032554,
          -111.401115,
          -106.986156,
          -116.177535,
          -120.7676146,
          -92.1979353,
          -72.7784445,
          -90.3856733,
          -76.0335483,
          -75.6437706,
          -105.573284,
          -115.7622016,
          -111.6572955,
          -74.7390499,
          -121.814566,
          -120.2276948,
          -117.3007731,
          -123.3952995,
          -120.310349,
          -121.688365,
          -120.12192,
          -116.623291,
          -117.7555797,
          -115.9455963,
          -105.0749801,
          -72.9109334,
          -114.4019636,
          -114.3578504,
          -121.6655282,
          -115.2420141,
          -119.032634,
          -107.812285,
          -73.9698685,
          -118.0833546,
          -107.7795294,
          -70.8196141,
          -115.9819477,
          -111.067446,
          -74.5891426,
          -85.3239218,
          -120.8295337,
          -105.2850091,
          -111.0255228,
          -112.8507766,
          -72.6854695,
          -72.69828454,
          -70.92606776,
          -117.562991,
          -120.1193489,
          -119.9047389,
          -104.8110775,
          -121.7737856,
          -90.4069177,
          -109.3368732,
          -111.5919046,
          -149.0808696,
          -72.9237112,
          -125.2963912,
          -106.6575409,
          -71.4413006,
          -118.1092086,
          -109.4786676,
          -74.2304216,
          -122.0726046,
          -120.331067,
          -123.2011443,
          -73.83531534,
          -121.417071,
          -116.1225024,
          -121.745667,
          -78.7571921,
          -75.662134,
          -106.4496496,
          -121.504535,
          -121.089171,
          -74.6496253,
          -70.6259857
         ],
         "name": "",
         "radius": 8,
         "subplot": "map",
         "type": "densitymap",
         "z": [
          120,
          142,
          134,
          100,
          165,
          2,
          121,
          116,
          250,
          105,
          100,
          103,
          200,
          143,
          115,
          103,
          134,
          100,
          234,
          48,
          149,
          153,
          250,
          236,
          139,
          135,
          135,
          126,
          126,
          119,
          115,
          113,
          109,
          103,
          100,
          100,
          100,
          100,
          100,
          100,
          100,
          97,
          95,
          94,
          94,
          93,
          92,
          92,
          91,
          89,
          89,
          88,
          86,
          87,
          86,
          85,
          84,
          80,
          80,
          78,
          78,
          76,
          75,
          71,
          71,
          70,
          70,
          69,
          68,
          67,
          67,
          66,
          65,
          65,
          65,
          64,
          62,
          60,
          60,
          57,
          56,
          55,
          55,
          55,
          52,
          52,
          50,
          35,
          27,
          42,
          4,
          30,
          9,
          31,
          50,
          37,
          50,
          39
         ]
        }
       ],
       "layout": {
        "annotations": [
         {
          "align": "left",
          "showarrow": false,
          "text": "<i><b>px.density_map</b> and <b>go.Densitymap</b> use <b>Maplibre</b> for rendering.        <br>These traces were introduced in <b>Plotly.py 5.24</b> and are now the recommended way to make tile-based density heatmaps.</i>",
          "textangle": 0,
          "x": 0,
          "xanchor": "left",
          "xref": "paper",
          "y": -0.15,
          "yref": "paper",
          "yshift": 10
         }
        ],
        "coloraxis": {
         "colorbar": {
          "title": {
           "text": "Total slopes"
          }
         },
         "colorscale": [
          [
           0,
           "#0d0887"
          ],
          [
           0.1111111111111111,
           "#46039f"
          ],
          [
           0.2222222222222222,
           "#7201a8"
          ],
          [
           0.3333333333333333,
           "#9c179e"
          ],
          [
           0.4444444444444444,
           "#bd3786"
          ],
          [
           0.5555555555555556,
           "#d8576b"
          ],
          [
           0.6666666666666666,
           "#ed7953"
          ],
          [
           0.7777777777777778,
           "#fb9f3a"
          ],
          [
           0.8888888888888888,
           "#fdca26"
          ],
          [
           1,
           "#f0f921"
          ]
         ]
        },
        "height": 500,
        "legend": {
         "tracegroupgap": 0
        },
        "map": {
         "center": {
          "lat": 45,
          "lon": -104
         },
         "domain": {
          "x": [
           0,
           1
          ],
          "y": [
           0,
           1
          ]
         },
         "style": "light",
         "zoom": 2
        },
        "mapbox": {
         "center": {
          "lat": 45,
          "lon": -104
         },
         "style": "light",
         "zoom": 2
        },
        "template": {
         "data": {
          "bar": [
           {
            "error_x": {
             "color": "#2a3f5f"
            },
            "error_y": {
             "color": "#2a3f5f"
            },
            "marker": {
             "line": {
              "color": "#E5ECF6",
              "width": 0.5
             },
             "pattern": {
              "fillmode": "overlay",
              "size": 10,
              "solidity": 0.2
             }
            },
            "type": "bar"
           }
          ],
          "barpolar": [
           {
            "marker": {
             "line": {
              "color": "#E5ECF6",
              "width": 0.5
             },
             "pattern": {
              "fillmode": "overlay",
              "size": 10,
              "solidity": 0.2
             }
            },
            "type": "barpolar"
           }
          ],
          "carpet": [
           {
            "aaxis": {
             "endlinecolor": "#2a3f5f",
             "gridcolor": "white",
             "linecolor": "white",
             "minorgridcolor": "white",
             "startlinecolor": "#2a3f5f"
            },
            "baxis": {
             "endlinecolor": "#2a3f5f",
             "gridcolor": "white",
             "linecolor": "white",
             "minorgridcolor": "white",
             "startlinecolor": "#2a3f5f"
            },
            "type": "carpet"
           }
          ],
          "choropleth": [
           {
            "colorbar": {
             "outlinewidth": 0,
             "ticks": ""
            },
            "type": "choropleth"
           }
          ],
          "contour": [
           {
            "colorbar": {
             "outlinewidth": 0,
             "ticks": ""
            },
            "colorscale": [
             [
              0,
              "#0d0887"
             ],
             [
              0.1111111111111111,
              "#46039f"
             ],
             [
              0.2222222222222222,
              "#7201a8"
             ],
             [
              0.3333333333333333,
              "#9c179e"
             ],
             [
              0.4444444444444444,
              "#bd3786"
             ],
             [
              0.5555555555555556,
              "#d8576b"
             ],
             [
              0.6666666666666666,
              "#ed7953"
             ],
             [
              0.7777777777777778,
              "#fb9f3a"
             ],
             [
              0.8888888888888888,
              "#fdca26"
             ],
             [
              1,
              "#f0f921"
             ]
            ],
            "type": "contour"
           }
          ],
          "contourcarpet": [
           {
            "colorbar": {
             "outlinewidth": 0,
             "ticks": ""
            },
            "type": "contourcarpet"
           }
          ],
          "heatmap": [
           {
            "colorbar": {
             "outlinewidth": 0,
             "ticks": ""
            },
            "colorscale": [
             [
              0,
              "#0d0887"
             ],
             [
              0.1111111111111111,
              "#46039f"
             ],
             [
              0.2222222222222222,
              "#7201a8"
             ],
             [
              0.3333333333333333,
              "#9c179e"
             ],
             [
              0.4444444444444444,
              "#bd3786"
             ],
             [
              0.5555555555555556,
              "#d8576b"
             ],
             [
              0.6666666666666666,
              "#ed7953"
             ],
             [
              0.7777777777777778,
              "#fb9f3a"
             ],
             [
              0.8888888888888888,
              "#fdca26"
             ],
             [
              1,
              "#f0f921"
             ]
            ],
            "type": "heatmap"
           }
          ],
          "heatmapgl": [
           {
            "colorbar": {
             "outlinewidth": 0,
             "ticks": ""
            },
            "colorscale": [
             [
              0,
              "#0d0887"
             ],
             [
              0.1111111111111111,
              "#46039f"
             ],
             [
              0.2222222222222222,
              "#7201a8"
             ],
             [
              0.3333333333333333,
              "#9c179e"
             ],
             [
              0.4444444444444444,
              "#bd3786"
             ],
             [
              0.5555555555555556,
              "#d8576b"
             ],
             [
              0.6666666666666666,
              "#ed7953"
             ],
             [
              0.7777777777777778,
              "#fb9f3a"
             ],
             [
              0.8888888888888888,
              "#fdca26"
             ],
             [
              1,
              "#f0f921"
             ]
            ],
            "type": "heatmapgl"
           }
          ],
          "histogram": [
           {
            "marker": {
             "pattern": {
              "fillmode": "overlay",
              "size": 10,
              "solidity": 0.2
             }
            },
            "type": "histogram"
           }
          ],
          "histogram2d": [
           {
            "colorbar": {
             "outlinewidth": 0,
             "ticks": ""
            },
            "colorscale": [
             [
              0,
              "#0d0887"
             ],
             [
              0.1111111111111111,
              "#46039f"
             ],
             [
              0.2222222222222222,
              "#7201a8"
             ],
             [
              0.3333333333333333,
              "#9c179e"
             ],
             [
              0.4444444444444444,
              "#bd3786"
             ],
             [
              0.5555555555555556,
              "#d8576b"
             ],
             [
              0.6666666666666666,
              "#ed7953"
             ],
             [
              0.7777777777777778,
              "#fb9f3a"
             ],
             [
              0.8888888888888888,
              "#fdca26"
             ],
             [
              1,
              "#f0f921"
             ]
            ],
            "type": "histogram2d"
           }
          ],
          "histogram2dcontour": [
           {
            "colorbar": {
             "outlinewidth": 0,
             "ticks": ""
            },
            "colorscale": [
             [
              0,
              "#0d0887"
             ],
             [
              0.1111111111111111,
              "#46039f"
             ],
             [
              0.2222222222222222,
              "#7201a8"
             ],
             [
              0.3333333333333333,
              "#9c179e"
             ],
             [
              0.4444444444444444,
              "#bd3786"
             ],
             [
              0.5555555555555556,
              "#d8576b"
             ],
             [
              0.6666666666666666,
              "#ed7953"
             ],
             [
              0.7777777777777778,
              "#fb9f3a"
             ],
             [
              0.8888888888888888,
              "#fdca26"
             ],
             [
              1,
              "#f0f921"
             ]
            ],
            "type": "histogram2dcontour"
           }
          ],
          "mesh3d": [
           {
            "colorbar": {
             "outlinewidth": 0,
             "ticks": ""
            },
            "type": "mesh3d"
           }
          ],
          "parcoords": [
           {
            "line": {
             "colorbar": {
              "outlinewidth": 0,
              "ticks": ""
             }
            },
            "type": "parcoords"
           }
          ],
          "pie": [
           {
            "automargin": true,
            "type": "pie"
           }
          ],
          "scatter": [
           {
            "fillpattern": {
             "fillmode": "overlay",
             "size": 10,
             "solidity": 0.2
            },
            "type": "scatter"
           }
          ],
          "scatter3d": [
           {
            "line": {
             "colorbar": {
              "outlinewidth": 0,
              "ticks": ""
             }
            },
            "marker": {
             "colorbar": {
              "outlinewidth": 0,
              "ticks": ""
             }
            },
            "type": "scatter3d"
           }
          ],
          "scattercarpet": [
           {
            "marker": {
             "colorbar": {
              "outlinewidth": 0,
              "ticks": ""
             }
            },
            "type": "scattercarpet"
           }
          ],
          "scattergeo": [
           {
            "marker": {
             "colorbar": {
              "outlinewidth": 0,
              "ticks": ""
             }
            },
            "type": "scattergeo"
           }
          ],
          "scattergl": [
           {
            "marker": {
             "colorbar": {
              "outlinewidth": 0,
              "ticks": ""
             }
            },
            "type": "scattergl"
           }
          ],
          "scattermapbox": [
           {
            "marker": {
             "colorbar": {
              "outlinewidth": 0,
              "ticks": ""
             }
            },
            "type": "scattermapbox"
           }
          ],
          "scatterpolar": [
           {
            "marker": {
             "colorbar": {
              "outlinewidth": 0,
              "ticks": ""
             }
            },
            "type": "scatterpolar"
           }
          ],
          "scatterpolargl": [
           {
            "marker": {
             "colorbar": {
              "outlinewidth": 0,
              "ticks": ""
             }
            },
            "type": "scatterpolargl"
           }
          ],
          "scatterternary": [
           {
            "marker": {
             "colorbar": {
              "outlinewidth": 0,
              "ticks": ""
             }
            },
            "type": "scatterternary"
           }
          ],
          "surface": [
           {
            "colorbar": {
             "outlinewidth": 0,
             "ticks": ""
            },
            "colorscale": [
             [
              0,
              "#0d0887"
             ],
             [
              0.1111111111111111,
              "#46039f"
             ],
             [
              0.2222222222222222,
              "#7201a8"
             ],
             [
              0.3333333333333333,
              "#9c179e"
             ],
             [
              0.4444444444444444,
              "#bd3786"
             ],
             [
              0.5555555555555556,
              "#d8576b"
             ],
             [
              0.6666666666666666,
              "#ed7953"
             ],
             [
              0.7777777777777778,
              "#fb9f3a"
             ],
             [
              0.8888888888888888,
              "#fdca26"
             ],
             [
              1,
              "#f0f921"
             ]
            ],
            "type": "surface"
           }
          ],
          "table": [
           {
            "cells": {
             "fill": {
              "color": "#EBF0F8"
             },
             "line": {
              "color": "white"
             }
            },
            "header": {
             "fill": {
              "color": "#C8D4E3"
             },
             "line": {
              "color": "white"
             }
            },
            "type": "table"
           }
          ]
         },
         "layout": {
          "annotationdefaults": {
           "arrowcolor": "#2a3f5f",
           "arrowhead": 0,
           "arrowwidth": 1
          },
          "autotypenumbers": "strict",
          "coloraxis": {
           "colorbar": {
            "outlinewidth": 0,
            "ticks": ""
           }
          },
          "colorscale": {
           "diverging": [
            [
             0,
             "#8e0152"
            ],
            [
             0.1,
             "#c51b7d"
            ],
            [
             0.2,
             "#de77ae"
            ],
            [
             0.3,
             "#f1b6da"
            ],
            [
             0.4,
             "#fde0ef"
            ],
            [
             0.5,
             "#f7f7f7"
            ],
            [
             0.6,
             "#e6f5d0"
            ],
            [
             0.7,
             "#b8e186"
            ],
            [
             0.8,
             "#7fbc41"
            ],
            [
             0.9,
             "#4d9221"
            ],
            [
             1,
             "#276419"
            ]
           ],
           "sequential": [
            [
             0,
             "#0d0887"
            ],
            [
             0.1111111111111111,
             "#46039f"
            ],
            [
             0.2222222222222222,
             "#7201a8"
            ],
            [
             0.3333333333333333,
             "#9c179e"
            ],
            [
             0.4444444444444444,
             "#bd3786"
            ],
            [
             0.5555555555555556,
             "#d8576b"
            ],
            [
             0.6666666666666666,
             "#ed7953"
            ],
            [
             0.7777777777777778,
             "#fb9f3a"
            ],
            [
             0.8888888888888888,
             "#fdca26"
            ],
            [
             1,
             "#f0f921"
            ]
           ],
           "sequentialminus": [
            [
             0,
             "#0d0887"
            ],
            [
             0.1111111111111111,
             "#46039f"
            ],
            [
             0.2222222222222222,
             "#7201a8"
            ],
            [
             0.3333333333333333,
             "#9c179e"
            ],
            [
             0.4444444444444444,
             "#bd3786"
            ],
            [
             0.5555555555555556,
             "#d8576b"
            ],
            [
             0.6666666666666666,
             "#ed7953"
            ],
            [
             0.7777777777777778,
             "#fb9f3a"
            ],
            [
             0.8888888888888888,
             "#fdca26"
            ],
            [
             1,
             "#f0f921"
            ]
           ]
          },
          "colorway": [
           "#636efa",
           "#EF553B",
           "#00cc96",
           "#ab63fa",
           "#FFA15A",
           "#19d3f3",
           "#FF6692",
           "#B6E880",
           "#FF97FF",
           "#FECB52"
          ],
          "font": {
           "color": "#2a3f5f"
          },
          "geo": {
           "bgcolor": "white",
           "lakecolor": "white",
           "landcolor": "#E5ECF6",
           "showlakes": true,
           "showland": true,
           "subunitcolor": "white"
          },
          "hoverlabel": {
           "align": "left"
          },
          "hovermode": "closest",
          "mapbox": {
           "style": "light"
          },
          "paper_bgcolor": "white",
          "plot_bgcolor": "#E5ECF6",
          "polar": {
           "angularaxis": {
            "gridcolor": "white",
            "linecolor": "white",
            "ticks": ""
           },
           "bgcolor": "#E5ECF6",
           "radialaxis": {
            "gridcolor": "white",
            "linecolor": "white",
            "ticks": ""
           }
          },
          "scene": {
           "xaxis": {
            "backgroundcolor": "#E5ECF6",
            "gridcolor": "white",
            "gridwidth": 2,
            "linecolor": "white",
            "showbackground": true,
            "ticks": "",
            "zerolinecolor": "white"
           },
           "yaxis": {
            "backgroundcolor": "#E5ECF6",
            "gridcolor": "white",
            "gridwidth": 2,
            "linecolor": "white",
            "showbackground": true,
            "ticks": "",
            "zerolinecolor": "white"
           },
           "zaxis": {
            "backgroundcolor": "#E5ECF6",
            "gridcolor": "white",
            "gridwidth": 2,
            "linecolor": "white",
            "showbackground": true,
            "ticks": "",
            "zerolinecolor": "white"
           }
          },
          "shapedefaults": {
           "line": {
            "color": "#2a3f5f"
           }
          },
          "ternary": {
           "aaxis": {
            "gridcolor": "white",
            "linecolor": "white",
            "ticks": ""
           },
           "baxis": {
            "gridcolor": "white",
            "linecolor": "white",
            "ticks": ""
           },
           "bgcolor": "#E5ECF6",
           "caxis": {
            "gridcolor": "white",
            "linecolor": "white",
            "ticks": ""
           }
          },
          "title": {
           "x": 0.05
          },
          "xaxis": {
           "automargin": true,
           "gridcolor": "white",
           "linecolor": "white",
           "ticks": "",
           "title": {
            "standoff": 15
           },
           "zerolinecolor": "white",
           "zerolinewidth": 2
          },
          "yaxis": {
           "automargin": true,
           "gridcolor": "white",
           "linecolor": "white",
           "ticks": "",
           "title": {
            "standoff": 15
           },
           "zerolinecolor": "white",
           "zerolinewidth": 2
          }
         }
        },
        "title": {
         "text": "Ski Resort Slope Density with <b>px.density_map()</b>"
        }
       }
      }
     },
     "metadata": {},
     "output_type": "display_data"
    }
   ],
   "source": [
    "from dash import Dash, dcc, html, Input, Output, State, callback, _dash_renderer, no_update, clientside_callback, ALL, Patch\n",
    "# from dash.exceptions import PreventUpdate\n",
    "import dash_mantine_components as dmc\n",
    "from dash_iconify import DashIconify\n",
    "import plotly.express as px\n",
    "import plotly.io as pio\n",
    "import pandas as pd\n",
    "_dash_renderer._set_react_version(\"18.2.0\")\n",
    "\n",
    "resorts = (\n",
    "    pd.read_csv(r\"data/resorts.csv\", encoding = \"ISO-8859-1\")\n",
    "    .query(\"Country in ['United States', 'Canada']\")\n",
    ")\n",
    "\n",
    "fig1 = px.density_map(resorts,\n",
    "                      lat='Latitude',\n",
    "                      lon='Longitude',\n",
    "                      z='Total slopes',\n",
    "                      radius=8,\n",
    "                      center=dict(lat=45, lon=-104), zoom=2,\n",
    "                      map_style=\"light\",\n",
    "                      height=500,\n",
    "                      title='Ski Resort Slope Density with <b>px.density_map()</b>',\n",
    "                     )\n",
    "fig1.add_annotation(\n",
    "    text=\"<i><b>px.density_map</b> and <b>go.Densitymap</b> use <b>Maplibre</b> for rendering.\\\n",
    "        <br>These traces were introduced in <b>Plotly.py 5.24</b> and are now the recommended way to make tile-based density heatmaps.</i>\",\n",
    "    showarrow=False,\n",
    "    yshift=10,\n",
    "    x=0,\n",
    "    y=-0.15,\n",
    "    textangle=0,\n",
    "    xanchor='left',\n",
    "    yref=\"paper\",\n",
    "    xref=\"paper\",\n",
    ")\n",
    "fig1.update_annotations(align='left')\n",
    "fig1"
   ]
  },
  {
   "cell_type": "code",
   "execution_count": 5,
   "id": "fc6ee46f",
   "metadata": {},
   "outputs": [
    {
     "data": {
      "application/vnd.plotly.v1+json": {
       "config": {
        "plotlyServerURL": "https://plot.ly"
       },
       "data": [
        {
         "coloraxis": "coloraxis",
         "hovertemplate": "Total slopes=%{z}<br>Latitude=%{lat}<br>Longitude=%{lon}<extra></extra>",
         "lat": [
          49.1055201,
          49.5041747,
          50.8844684,
          50.7369988,
          35.7540215,
          40.4805325,
          38.8698201,
          34.641109,
          40.6460921,
          40.1211211,
          51.2937094,
          49.715991,
          50.1171903,
          39.87161425,
          42.6736893,
          39.1760986,
          61.103269,
          36.7402261,
          39.6440207,
          41.216317,
          39.6048786,
          32.7558392,
          45.2839783,
          39.3316513,
          51.4249668,
          48.8773577,
          41.9988889,
          43.67433,
          37.4781086,
          38.3481772,
          45.015082,
          36.4072377,
          51.08952535,
          40.5807546,
          40.369273,
          48.7767701,
          39.1785177,
          48.1815678,
          42.6955158,
          47.4234599,
          43.9792818,
          39.274701,
          48.368467,
          33.741419,
          51.3065203,
          40.3977612,
          43.0428562,
          43.6829549,
          48.48108275,
          45.338708,
          42.9932326,
          37.6307692,
          37.9374939,
          44.5417138,
          52.8005917,
          37.5558754,
          44.4627415,
          49.6850876,
          45.6681984,
          46.11588,
          41.0514432,
          47.6313713,
          36.3930879,
          45.7032833,
          37.6927551,
          44.4654236,
          43.41769055,
          47.0877219,
          48.300619,
          37.5688237,
          49.3900432,
          39.983721,
          45.3018189,
          38.5800713,
          45.1907531,
          40.6202462,
          60.96188655,
          42.9589685,
          49.7528282,
          40.2235948,
          44.2576311,
          50.9692628,
          35.214632,
          42.1778662,
          37.3862661,
          39.3188801,
          49.3976802,
          44.36586225,
          47.424462,
          44.6700061,
          45.303419,
          39.3455111,
          41.349713,
          35.2100445,
          46.9281666,
          47.7456352,
          44.5164518,
          47.2759
         ],
         "lon": [
          -117.8462801,
          -115.062867,
          -119.8823295,
          -119.1205606,
          -109.8537507,
          -106.8406049,
          -106.984043,
          -98.67619161,
          -111.4979963,
          -80.6698426,
          -116.9624651,
          -118.933872,
          -122.9543022,
          -105.7827088,
          -95.3039943,
          -106.8292058,
          -149.7406566,
          -119.246785,
          -106.3801669,
          -111.857428,
          -106.5150017,
          -98.9032554,
          -111.401115,
          -106.986156,
          -116.177535,
          -120.7676146,
          -92.1979353,
          -72.7784445,
          -90.3856733,
          -76.0335483,
          -75.6437706,
          -105.573284,
          -115.7622016,
          -111.6572955,
          -74.7390499,
          -121.814566,
          -120.2276948,
          -117.3007731,
          -123.3952995,
          -120.310349,
          -121.688365,
          -120.12192,
          -116.623291,
          -117.7555797,
          -115.9455963,
          -105.0749801,
          -72.9109334,
          -114.4019636,
          -114.3578504,
          -121.6655282,
          -115.2420141,
          -119.032634,
          -107.812285,
          -73.9698685,
          -118.0833546,
          -107.7795294,
          -70.8196141,
          -115.9819477,
          -111.067446,
          -74.5891426,
          -85.3239218,
          -120.8295337,
          -105.2850091,
          -111.0255228,
          -112.8507766,
          -72.6854695,
          -72.69828454,
          -70.92606776,
          -117.562991,
          -120.1193489,
          -119.9047389,
          -104.8110775,
          -121.7737856,
          -90.4069177,
          -109.3368732,
          -111.5919046,
          -149.0808696,
          -72.9237112,
          -125.2963912,
          -106.6575409,
          -71.4413006,
          -118.1092086,
          -109.4786676,
          -74.2304216,
          -122.0726046,
          -120.331067,
          -123.2011443,
          -73.83531534,
          -121.417071,
          -116.1225024,
          -121.745667,
          -78.7571921,
          -75.662134,
          -106.4496496,
          -121.504535,
          -121.089171,
          -74.6496253,
          -70.6259857
         ],
         "name": "",
         "radius": 8,
         "subplot": "mapbox",
         "type": "densitymapbox",
         "z": [
          120,
          142,
          134,
          100,
          165,
          2,
          121,
          116,
          250,
          105,
          100,
          103,
          200,
          143,
          115,
          103,
          134,
          100,
          234,
          48,
          149,
          153,
          250,
          236,
          139,
          135,
          135,
          126,
          126,
          119,
          115,
          113,
          109,
          103,
          100,
          100,
          100,
          100,
          100,
          100,
          100,
          97,
          95,
          94,
          94,
          93,
          92,
          92,
          91,
          89,
          89,
          88,
          86,
          87,
          86,
          85,
          84,
          80,
          80,
          78,
          78,
          76,
          75,
          71,
          71,
          70,
          70,
          69,
          68,
          67,
          67,
          66,
          65,
          65,
          65,
          64,
          62,
          60,
          60,
          57,
          56,
          55,
          55,
          55,
          52,
          52,
          50,
          35,
          27,
          42,
          4,
          30,
          9,
          31,
          50,
          37,
          50,
          39
         ]
        }
       ],
       "layout": {
        "annotations": [
         {
          "align": "left",
          "showarrow": false,
          "text": "<i>Plotly is Switching to MapLibre<br><b>https://plotly.com/blog/plotly-is-switching-to-maplibre/</b></i>",
          "textangle": 0,
          "x": 0,
          "xanchor": "left",
          "xref": "paper",
          "y": -0.15,
          "yref": "paper",
          "yshift": 10
         }
        ],
        "coloraxis": {
         "colorbar": {
          "title": {
           "text": "Total slopes"
          }
         },
         "colorscale": [
          [
           0,
           "#0d0887"
          ],
          [
           0.1111111111111111,
           "#46039f"
          ],
          [
           0.2222222222222222,
           "#7201a8"
          ],
          [
           0.3333333333333333,
           "#9c179e"
          ],
          [
           0.4444444444444444,
           "#bd3786"
          ],
          [
           0.5555555555555556,
           "#d8576b"
          ],
          [
           0.6666666666666666,
           "#ed7953"
          ],
          [
           0.7777777777777778,
           "#fb9f3a"
          ],
          [
           0.8888888888888888,
           "#fdca26"
          ],
          [
           1,
           "#f0f921"
          ]
         ]
        },
        "height": 500,
        "legend": {
         "tracegroupgap": 0
        },
        "mapbox": {
         "center": {
          "lat": 45,
          "lon": -104
         },
         "domain": {
          "x": [
           0,
           1
          ],
          "y": [
           0,
           1
          ]
         },
         "style": "open-street-map",
         "zoom": 2
        },
        "template": {
         "data": {
          "bar": [
           {
            "error_x": {
             "color": "#2a3f5f"
            },
            "error_y": {
             "color": "#2a3f5f"
            },
            "marker": {
             "line": {
              "color": "#E5ECF6",
              "width": 0.5
             },
             "pattern": {
              "fillmode": "overlay",
              "size": 10,
              "solidity": 0.2
             }
            },
            "type": "bar"
           }
          ],
          "barpolar": [
           {
            "marker": {
             "line": {
              "color": "#E5ECF6",
              "width": 0.5
             },
             "pattern": {
              "fillmode": "overlay",
              "size": 10,
              "solidity": 0.2
             }
            },
            "type": "barpolar"
           }
          ],
          "carpet": [
           {
            "aaxis": {
             "endlinecolor": "#2a3f5f",
             "gridcolor": "white",
             "linecolor": "white",
             "minorgridcolor": "white",
             "startlinecolor": "#2a3f5f"
            },
            "baxis": {
             "endlinecolor": "#2a3f5f",
             "gridcolor": "white",
             "linecolor": "white",
             "minorgridcolor": "white",
             "startlinecolor": "#2a3f5f"
            },
            "type": "carpet"
           }
          ],
          "choropleth": [
           {
            "colorbar": {
             "outlinewidth": 0,
             "ticks": ""
            },
            "type": "choropleth"
           }
          ],
          "contour": [
           {
            "colorbar": {
             "outlinewidth": 0,
             "ticks": ""
            },
            "colorscale": [
             [
              0,
              "#0d0887"
             ],
             [
              0.1111111111111111,
              "#46039f"
             ],
             [
              0.2222222222222222,
              "#7201a8"
             ],
             [
              0.3333333333333333,
              "#9c179e"
             ],
             [
              0.4444444444444444,
              "#bd3786"
             ],
             [
              0.5555555555555556,
              "#d8576b"
             ],
             [
              0.6666666666666666,
              "#ed7953"
             ],
             [
              0.7777777777777778,
              "#fb9f3a"
             ],
             [
              0.8888888888888888,
              "#fdca26"
             ],
             [
              1,
              "#f0f921"
             ]
            ],
            "type": "contour"
           }
          ],
          "contourcarpet": [
           {
            "colorbar": {
             "outlinewidth": 0,
             "ticks": ""
            },
            "type": "contourcarpet"
           }
          ],
          "heatmap": [
           {
            "colorbar": {
             "outlinewidth": 0,
             "ticks": ""
            },
            "colorscale": [
             [
              0,
              "#0d0887"
             ],
             [
              0.1111111111111111,
              "#46039f"
             ],
             [
              0.2222222222222222,
              "#7201a8"
             ],
             [
              0.3333333333333333,
              "#9c179e"
             ],
             [
              0.4444444444444444,
              "#bd3786"
             ],
             [
              0.5555555555555556,
              "#d8576b"
             ],
             [
              0.6666666666666666,
              "#ed7953"
             ],
             [
              0.7777777777777778,
              "#fb9f3a"
             ],
             [
              0.8888888888888888,
              "#fdca26"
             ],
             [
              1,
              "#f0f921"
             ]
            ],
            "type": "heatmap"
           }
          ],
          "heatmapgl": [
           {
            "colorbar": {
             "outlinewidth": 0,
             "ticks": ""
            },
            "colorscale": [
             [
              0,
              "#0d0887"
             ],
             [
              0.1111111111111111,
              "#46039f"
             ],
             [
              0.2222222222222222,
              "#7201a8"
             ],
             [
              0.3333333333333333,
              "#9c179e"
             ],
             [
              0.4444444444444444,
              "#bd3786"
             ],
             [
              0.5555555555555556,
              "#d8576b"
             ],
             [
              0.6666666666666666,
              "#ed7953"
             ],
             [
              0.7777777777777778,
              "#fb9f3a"
             ],
             [
              0.8888888888888888,
              "#fdca26"
             ],
             [
              1,
              "#f0f921"
             ]
            ],
            "type": "heatmapgl"
           }
          ],
          "histogram": [
           {
            "marker": {
             "pattern": {
              "fillmode": "overlay",
              "size": 10,
              "solidity": 0.2
             }
            },
            "type": "histogram"
           }
          ],
          "histogram2d": [
           {
            "colorbar": {
             "outlinewidth": 0,
             "ticks": ""
            },
            "colorscale": [
             [
              0,
              "#0d0887"
             ],
             [
              0.1111111111111111,
              "#46039f"
             ],
             [
              0.2222222222222222,
              "#7201a8"
             ],
             [
              0.3333333333333333,
              "#9c179e"
             ],
             [
              0.4444444444444444,
              "#bd3786"
             ],
             [
              0.5555555555555556,
              "#d8576b"
             ],
             [
              0.6666666666666666,
              "#ed7953"
             ],
             [
              0.7777777777777778,
              "#fb9f3a"
             ],
             [
              0.8888888888888888,
              "#fdca26"
             ],
             [
              1,
              "#f0f921"
             ]
            ],
            "type": "histogram2d"
           }
          ],
          "histogram2dcontour": [
           {
            "colorbar": {
             "outlinewidth": 0,
             "ticks": ""
            },
            "colorscale": [
             [
              0,
              "#0d0887"
             ],
             [
              0.1111111111111111,
              "#46039f"
             ],
             [
              0.2222222222222222,
              "#7201a8"
             ],
             [
              0.3333333333333333,
              "#9c179e"
             ],
             [
              0.4444444444444444,
              "#bd3786"
             ],
             [
              0.5555555555555556,
              "#d8576b"
             ],
             [
              0.6666666666666666,
              "#ed7953"
             ],
             [
              0.7777777777777778,
              "#fb9f3a"
             ],
             [
              0.8888888888888888,
              "#fdca26"
             ],
             [
              1,
              "#f0f921"
             ]
            ],
            "type": "histogram2dcontour"
           }
          ],
          "mesh3d": [
           {
            "colorbar": {
             "outlinewidth": 0,
             "ticks": ""
            },
            "type": "mesh3d"
           }
          ],
          "parcoords": [
           {
            "line": {
             "colorbar": {
              "outlinewidth": 0,
              "ticks": ""
             }
            },
            "type": "parcoords"
           }
          ],
          "pie": [
           {
            "automargin": true,
            "type": "pie"
           }
          ],
          "scatter": [
           {
            "fillpattern": {
             "fillmode": "overlay",
             "size": 10,
             "solidity": 0.2
            },
            "type": "scatter"
           }
          ],
          "scatter3d": [
           {
            "line": {
             "colorbar": {
              "outlinewidth": 0,
              "ticks": ""
             }
            },
            "marker": {
             "colorbar": {
              "outlinewidth": 0,
              "ticks": ""
             }
            },
            "type": "scatter3d"
           }
          ],
          "scattercarpet": [
           {
            "marker": {
             "colorbar": {
              "outlinewidth": 0,
              "ticks": ""
             }
            },
            "type": "scattercarpet"
           }
          ],
          "scattergeo": [
           {
            "marker": {
             "colorbar": {
              "outlinewidth": 0,
              "ticks": ""
             }
            },
            "type": "scattergeo"
           }
          ],
          "scattergl": [
           {
            "marker": {
             "colorbar": {
              "outlinewidth": 0,
              "ticks": ""
             }
            },
            "type": "scattergl"
           }
          ],
          "scattermapbox": [
           {
            "marker": {
             "colorbar": {
              "outlinewidth": 0,
              "ticks": ""
             }
            },
            "type": "scattermapbox"
           }
          ],
          "scatterpolar": [
           {
            "marker": {
             "colorbar": {
              "outlinewidth": 0,
              "ticks": ""
             }
            },
            "type": "scatterpolar"
           }
          ],
          "scatterpolargl": [
           {
            "marker": {
             "colorbar": {
              "outlinewidth": 0,
              "ticks": ""
             }
            },
            "type": "scatterpolargl"
           }
          ],
          "scatterternary": [
           {
            "marker": {
             "colorbar": {
              "outlinewidth": 0,
              "ticks": ""
             }
            },
            "type": "scatterternary"
           }
          ],
          "surface": [
           {
            "colorbar": {
             "outlinewidth": 0,
             "ticks": ""
            },
            "colorscale": [
             [
              0,
              "#0d0887"
             ],
             [
              0.1111111111111111,
              "#46039f"
             ],
             [
              0.2222222222222222,
              "#7201a8"
             ],
             [
              0.3333333333333333,
              "#9c179e"
             ],
             [
              0.4444444444444444,
              "#bd3786"
             ],
             [
              0.5555555555555556,
              "#d8576b"
             ],
             [
              0.6666666666666666,
              "#ed7953"
             ],
             [
              0.7777777777777778,
              "#fb9f3a"
             ],
             [
              0.8888888888888888,
              "#fdca26"
             ],
             [
              1,
              "#f0f921"
             ]
            ],
            "type": "surface"
           }
          ],
          "table": [
           {
            "cells": {
             "fill": {
              "color": "#EBF0F8"
             },
             "line": {
              "color": "white"
             }
            },
            "header": {
             "fill": {
              "color": "#C8D4E3"
             },
             "line": {
              "color": "white"
             }
            },
            "type": "table"
           }
          ]
         },
         "layout": {
          "annotationdefaults": {
           "arrowcolor": "#2a3f5f",
           "arrowhead": 0,
           "arrowwidth": 1
          },
          "autotypenumbers": "strict",
          "coloraxis": {
           "colorbar": {
            "outlinewidth": 0,
            "ticks": ""
           }
          },
          "colorscale": {
           "diverging": [
            [
             0,
             "#8e0152"
            ],
            [
             0.1,
             "#c51b7d"
            ],
            [
             0.2,
             "#de77ae"
            ],
            [
             0.3,
             "#f1b6da"
            ],
            [
             0.4,
             "#fde0ef"
            ],
            [
             0.5,
             "#f7f7f7"
            ],
            [
             0.6,
             "#e6f5d0"
            ],
            [
             0.7,
             "#b8e186"
            ],
            [
             0.8,
             "#7fbc41"
            ],
            [
             0.9,
             "#4d9221"
            ],
            [
             1,
             "#276419"
            ]
           ],
           "sequential": [
            [
             0,
             "#0d0887"
            ],
            [
             0.1111111111111111,
             "#46039f"
            ],
            [
             0.2222222222222222,
             "#7201a8"
            ],
            [
             0.3333333333333333,
             "#9c179e"
            ],
            [
             0.4444444444444444,
             "#bd3786"
            ],
            [
             0.5555555555555556,
             "#d8576b"
            ],
            [
             0.6666666666666666,
             "#ed7953"
            ],
            [
             0.7777777777777778,
             "#fb9f3a"
            ],
            [
             0.8888888888888888,
             "#fdca26"
            ],
            [
             1,
             "#f0f921"
            ]
           ],
           "sequentialminus": [
            [
             0,
             "#0d0887"
            ],
            [
             0.1111111111111111,
             "#46039f"
            ],
            [
             0.2222222222222222,
             "#7201a8"
            ],
            [
             0.3333333333333333,
             "#9c179e"
            ],
            [
             0.4444444444444444,
             "#bd3786"
            ],
            [
             0.5555555555555556,
             "#d8576b"
            ],
            [
             0.6666666666666666,
             "#ed7953"
            ],
            [
             0.7777777777777778,
             "#fb9f3a"
            ],
            [
             0.8888888888888888,
             "#fdca26"
            ],
            [
             1,
             "#f0f921"
            ]
           ]
          },
          "colorway": [
           "#636efa",
           "#EF553B",
           "#00cc96",
           "#ab63fa",
           "#FFA15A",
           "#19d3f3",
           "#FF6692",
           "#B6E880",
           "#FF97FF",
           "#FECB52"
          ],
          "font": {
           "color": "#2a3f5f"
          },
          "geo": {
           "bgcolor": "white",
           "lakecolor": "white",
           "landcolor": "#E5ECF6",
           "showlakes": true,
           "showland": true,
           "subunitcolor": "white"
          },
          "hoverlabel": {
           "align": "left"
          },
          "hovermode": "closest",
          "mapbox": {
           "style": "light"
          },
          "paper_bgcolor": "white",
          "plot_bgcolor": "#E5ECF6",
          "polar": {
           "angularaxis": {
            "gridcolor": "white",
            "linecolor": "white",
            "ticks": ""
           },
           "bgcolor": "#E5ECF6",
           "radialaxis": {
            "gridcolor": "white",
            "linecolor": "white",
            "ticks": ""
           }
          },
          "scene": {
           "xaxis": {
            "backgroundcolor": "#E5ECF6",
            "gridcolor": "white",
            "gridwidth": 2,
            "linecolor": "white",
            "showbackground": true,
            "ticks": "",
            "zerolinecolor": "white"
           },
           "yaxis": {
            "backgroundcolor": "#E5ECF6",
            "gridcolor": "white",
            "gridwidth": 2,
            "linecolor": "white",
            "showbackground": true,
            "ticks": "",
            "zerolinecolor": "white"
           },
           "zaxis": {
            "backgroundcolor": "#E5ECF6",
            "gridcolor": "white",
            "gridwidth": 2,
            "linecolor": "white",
            "showbackground": true,
            "ticks": "",
            "zerolinecolor": "white"
           }
          },
          "shapedefaults": {
           "line": {
            "color": "#2a3f5f"
           }
          },
          "ternary": {
           "aaxis": {
            "gridcolor": "white",
            "linecolor": "white",
            "ticks": ""
           },
           "baxis": {
            "gridcolor": "white",
            "linecolor": "white",
            "ticks": ""
           },
           "bgcolor": "#E5ECF6",
           "caxis": {
            "gridcolor": "white",
            "linecolor": "white",
            "ticks": ""
           }
          },
          "title": {
           "x": 0.05
          },
          "xaxis": {
           "automargin": true,
           "gridcolor": "white",
           "linecolor": "white",
           "ticks": "",
           "title": {
            "standoff": 15
           },
           "zerolinecolor": "white",
           "zerolinewidth": 2
          },
          "yaxis": {
           "automargin": true,
           "gridcolor": "white",
           "linecolor": "white",
           "ticks": "",
           "title": {
            "standoff": 15
           },
           "zerolinecolor": "white",
           "zerolinewidth": 2
          }
         }
        },
        "title": {
         "text": "Ski Resort Slope Density with <b>px.density_mapbox()</b>"
        }
       }
      }
     },
     "metadata": {},
     "output_type": "display_data"
    }
   ],
   "source": [
    "# https://plotly.com/python/density-heatmaps/#mapbox-maps \n",
    "# px.density_map and go.Densitymap use Maplibre for rendering.\n",
    "# These traces were introduced in Plotly.py 5.24. and are now the recommended way to make tile-based density heatmaps.\n",
    "\n",
    "fig10 = px.density_mapbox(resorts,\n",
    "                      lat='Latitude',\n",
    "                      lon='Longitude',\n",
    "                      z='Total slopes',\n",
    "                      radius=8,\n",
    "                      center=dict(lat=45, lon=-104), zoom=2,\n",
    "                      mapbox_style=\"open-street-map\",\n",
    "                      height=500,\n",
    "                      title='Ski Resort Slope Density with <b>px.density_mapbox()</b>'\n",
    "                     )\n",
    "fig10.add_annotation(\n",
    "    text=\"<i>Plotly is Switching to MapLibre<br><b>https://plotly.com/blog/plotly-is-switching-to-maplibre/</b></i>\",\n",
    "    showarrow=False,\n",
    "    yshift=10,\n",
    "    x=0,\n",
    "    y=-0.15,\n",
    "    textangle=0,\n",
    "    xanchor='left',\n",
    "    yref=\"paper\",\n",
    "    xref=\"paper\",\n",
    ")\n",
    "fig10.update_annotations(align='left')\n",
    "fig10\n",
    "\n",
    "# https://plotly.com/blog/plotly-is-switching-to-maplibre/"
   ]
  },
  {
   "cell_type": "code",
   "execution_count": 6,
   "id": "abec9e94-1bff-4c7f-a9ac-f6784623d333",
   "metadata": {},
   "outputs": [
    {
     "data": {
      "text/html": [
       "\n",
       "        <iframe\n",
       "            width=\"100%\"\n",
       "            height=\"650\"\n",
       "            src=\"http://127.0.0.1:8088/\"\n",
       "            frameborder=\"0\"\n",
       "            allowfullscreen\n",
       "            \n",
       "        ></iframe>\n",
       "        "
      ],
      "text/plain": [
       "<IPython.lib.display.IFrame at 0x24e016a7fb0>"
      ]
     },
     "metadata": {},
     "output_type": "display_data"
    }
   ],
   "source": [
    "from dash import Dash, dcc, html, Input, Output, State, callback, _dash_renderer, no_update, clientside_callback, ALL, Patch\n",
    "# from dash.exceptions import PreventUpdate\n",
    "import dash_mantine_components as dmc\n",
    "from dash_iconify import DashIconify\n",
    "\n",
    "_dash_renderer._set_react_version(\"18.2.0\")\n",
    "\n",
    "import plotly.express as px\n",
    "import plotly.io as pio\n",
    "import pandas as pd\n",
    "import numpy as np\n",
    "\n",
    "resorts = (\n",
    "    pd.read_csv(r\"data/resorts.csv\", encoding = \"ISO-8859-1\")\n",
    "    .query(\"Country in ['United States', 'Canada']\")\n",
    ")\n",
    "\n",
    "app = Dash(__name__, external_stylesheets=dmc.styles.ALL)\n",
    "\n",
    "# dmc.add_figure_templates()\n",
    "dmc.add_figure_templates(default=\"mantine_light\")\n",
    "\n",
    "dmc_title = dmc.Title(id='title_id', order=3, \n",
    "                      children='',\n",
    "                      )\n",
    "\n",
    "# theme_toggle = dmc.ActionIcon(\n",
    "#     [\n",
    "#         dmc.Paper(DashIconify(icon=\"radix-icons:sun\", width=25), darkHidden=True),\n",
    "#         dmc.Paper(DashIconify(icon=\"radix-icons:moon\", width=25), lightHidden=True),\n",
    "#     ],\n",
    "#     variant=\"transparent\",\n",
    "#     color=\"yellow\",\n",
    "#     id=\"color-scheme-toggle\",\n",
    "#     size=\"lg\",\n",
    "#     ms=\"auto\",\n",
    "#     n_clicks=0,\n",
    "# )\n",
    "\n",
    "theme_toggle = dmc.Switch(\n",
    "    offLabel=DashIconify(icon=\"radix-icons:sun\", width=15, color=dmc.DEFAULT_THEME[\"colors\"][\"yellow\"][8]),\n",
    "    onLabel=DashIconify(icon=\"radix-icons:moon\", width=15, color=dmc.DEFAULT_THEME[\"colors\"][\"yellow\"][6]),\n",
    "    id=\"color-scheme-switch\",\n",
    "    persistence=True,\n",
    "    color=\"grey\",\n",
    ")\n",
    "\n",
    "header = dmc.Group([\n",
    "    dmc_title,\n",
    "    theme_toggle,\n",
    "], justify=\"space-between\")\n",
    "\n",
    "layout = html.Div([\n",
    "    header,\n",
    "    html.Br(),\n",
    "    # html.H2(id='title_id', children='Whatever'),\n",
    "    dmc.RangeSlider(\n",
    "        id='price_range_id',\n",
    "        min=resorts['Price'].min(), # 0\n",
    "        max=150, # 141\n",
    "        step=5,\n",
    "        marks=[{'label': str(val), 'value': val} for val in range(0, 151, 25)],\n",
    "        value=[50,70],\n",
    "    ),\n",
    "    html.Br(),\n",
    "    dcc.RadioItems(\n",
    "        id='nigth_option',\n",
    "        options=[\n",
    "            {\"label\": \"Has Night Skiing\", \"value\": \"Yes\"},\n",
    "            {\"label\": \"No Night Skiing\", \"value\": \"No\"}],\n",
    "        value='Yes',\n",
    "        inline=True,\n",
    "    ),\n",
    "    dcc.Graph(\n",
    "        id='map_id',\n",
    "        figure={},\n",
    "    ),\n",
    "])\n",
    "app.layout = dmc.MantineProvider(\n",
    "    [layout],\n",
    "    id=\"mantine-provider\",\n",
    ")\n",
    "\n",
    "@callback(\n",
    "    Output(\"map_id\", \"figure\", allow_duplicate=True),\n",
    "    Input(\"color-scheme-switch\", \"checked\"),\n",
    "    prevent_initial_call = True,\n",
    ")\n",
    "def update_figure(switch_on):\n",
    "    # template must be template object rather than just the template string name\n",
    "    template = pio.templates[\"mantine_dark\"] if switch_on  else pio.templates[\"mantine_light\"]\n",
    "    patched_figure = Patch()\n",
    "    patched_figure[\"layout\"][\"template\"] = template\n",
    "\n",
    "    return patched_figure\n",
    "\n",
    "\n",
    "clientside_callback(\n",
    "    \"\"\" \n",
    "    (switchOn) => {\n",
    "       document.documentElement.setAttribute('data-mantine-color-scheme', switchOn ? 'dark' : 'light');  \n",
    "       return window.dash_clientside.no_update\n",
    "    }\n",
    "    \"\"\",\n",
    "    Output(\"color-scheme-switch\", \"id\"),\n",
    "    Input(\"color-scheme-switch\", \"checked\"),\n",
    ")\n",
    "\n",
    "\n",
    "@callback(\n",
    "    Output('title_id', 'children'),\n",
    "    Output('map_id', 'figure'),\n",
    "    Input('price_range_id', 'value'),\n",
    "    Input('nigth_option', 'value'),\n",
    ")\n",
    "def update_resorts(price, nigth):\n",
    "    \n",
    "    title = f'Resorts with a ticket price between ${price[0]} and ${price[1]}'\n",
    "    mask_price = resorts['Price'].between(price[0],price[1])\n",
    "    if nigth == 'Yes':\n",
    "        mask_nigth = resorts['Nightskiing'].eq('Yes')\n",
    "    else: mask_nigth = resorts['Nightskiing'].eq('No')\n",
    "    mask = np.logical_and(mask_nigth, mask_price)\n",
    "    dff = (resorts[mask])\n",
    "    fig = px.density_map(dff,\n",
    "                      lat='Latitude',\n",
    "                      lon='Longitude',\n",
    "                      z='Total slopes',\n",
    "                      radius=8,\n",
    "                      center=dict(lat=45, lon=-100), zoom=2,\n",
    "                      map_style=\"light\",\n",
    "                      height=450,\n",
    "                     )\n",
    "    return title, fig\n",
    "\n",
    "\n",
    "if __name__ == '__main__':\n",
    "    app.run(debug=True, port=8088)"
   ]
  },
  {
   "cell_type": "code",
   "execution_count": null,
   "id": "55c97e18-d6ac-4fab-9a76-91c14f9266bd",
   "metadata": {},
   "outputs": [],
   "source": []
  },
  {
   "cell_type": "code",
   "execution_count": null,
   "id": "18e7143a-edd5-44fa-85c3-38a04e6a95e4",
   "metadata": {},
   "outputs": [],
   "source": []
  },
  {
   "cell_type": "code",
   "execution_count": null,
   "id": "fe22f8be-5122-4b81-b565-6cd593a56e33",
   "metadata": {},
   "outputs": [],
   "source": []
  },
  {
   "cell_type": "code",
   "execution_count": null,
   "id": "f8c841cf-6e7c-430f-8745-c2244859ea75",
   "metadata": {},
   "outputs": [],
   "source": []
  },
  {
   "cell_type": "markdown",
   "id": "a4ca5379",
   "metadata": {},
   "source": [
    "# Dashboard 2: Top Resorts by Selected Metric\n",
    "\n",
    "Build an Application that outputs a bar chart of the top 10 resorts based on the dataframe column users select in a dropdown menu. \n",
    "\n",
    "* Add a checklist to allow users to select whether they want to limit results to Canada, the US, or include both countries. \n",
    "* Add an interactive element that allows users to select whether they want to sort the plotted dataframe in ascending or descending order. \n",
    "* Consider making your app title dynamic based on the column selected. \n"
   ]
  },
  {
   "cell_type": "code",
   "execution_count": 3,
   "id": "cbcec181",
   "metadata": {},
   "outputs": [],
   "source": [
    "from jupyter_dash import JupyterDash\n",
    "from dash import dcc, html\n",
    "from dash.dependencies import Output, Input\n",
    "from dash.exceptions import PreventUpdate\n",
    "\n",
    "import plotly.express as px\n",
    "import pandas as pd\n",
    "\n",
    "resorts = (\n",
    "    pd.read_csv(\"../Data/Ski Resorts/resorts.csv\", encoding = \"ISO-8859-1\")\n",
    "    .query(\"Country in ['United States', 'Canada']\")\n",
    ")\n"
   ]
  },
  {
   "cell_type": "code",
   "execution_count": null,
   "id": "04af023c",
   "metadata": {},
   "outputs": [],
   "source": []
  }
 ],
 "metadata": {
  "kernelspec": {
   "display_name": "DSDigital",
   "language": "python",
   "name": "python3"
  },
  "language_info": {
   "codemirror_mode": {
    "name": "ipython",
    "version": 3
   },
   "file_extension": ".py",
   "mimetype": "text/x-python",
   "name": "python",
   "nbconvert_exporter": "python",
   "pygments_lexer": "ipython3",
   "version": "3.12.3"
  }
 },
 "nbformat": 4,
 "nbformat_minor": 5
}
